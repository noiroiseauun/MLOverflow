{
  "nbformat": 4,
  "nbformat_minor": 0,
  "metadata": {
    "colab": {
      "name": "tagTesting.ipynb",
      "provenance": [],
      "collapsed_sections": [],
      "authorship_tag": "ABX9TyOhXsaA72KBrLUYTkSC0Ov7",
      "include_colab_link": true
    },
    "kernelspec": {
      "name": "python3",
      "display_name": "Python 3"
    },
    "language_info": {
      "name": "python"
    }
  },
  "cells": [
    {
      "cell_type": "markdown",
      "metadata": {
        "id": "view-in-github",
        "colab_type": "text"
      },
      "source": [
        "<a href=\"https://colab.research.google.com/github/noiroiseauun/MLOverflow/blob/main/NB_tests.ipynb\" target=\"_parent\"><img src=\"https://colab.research.google.com/assets/colab-badge.svg\" alt=\"Open In Colab\"/></a>"
      ]
    },
    {
      "cell_type": "code",
      "metadata": {
        "id": "k_angBtGWmRL"
      },
      "source": [
        "# Import statements\n",
        "import csv\n",
        "import string\n",
        "import numpy as np\n",
        "from sklearn.feature_extraction.text import CountVectorizer\n",
        "from sklearn.metrics import confusion_matrix\n",
        "from sklearn.linear_model import SGDRegressor\n",
        "from sklearn.naive_bayes import CategoricalNB\n",
        "from datetime import datetime, timedelta\n",
        "import gc\n",
        "import pandas as pd\n",
        "import random\n",
        "import re\n",
        "from google.colab import drive\n"
      ],
      "execution_count": null,
      "outputs": []
    },
    {
      "cell_type": "code",
      "metadata": {
        "colab": {
          "base_uri": "https://localhost:8080/"
        },
        "id": "AH5Al09iXIC5",
        "outputId": "415949e0-c0f9-4c5b-fd21-d5f393984f76"
      },
      "source": [
        "drive.mount('/content/drive')\n",
        "datapath = '/content/drive/Shared drives/CMPUT 466 - Project/data/'\n",
        "questionsPath = f\"{datapath}noHTMLQuestions.csv\"\n",
        "answersPath = f\"{datapath}Answers-Final.csv\"\n",
        "tagsPath = f\"{datapath}Tags-Final.csv\"\n"
      ],
      "execution_count": null,
      "outputs": [
        {
          "output_type": "stream",
          "text": [
            "Drive already mounted at /content/drive; to attempt to forcibly remount, call drive.mount(\"/content/drive\", force_remount=True).\n"
          ],
          "name": "stdout"
        }
      ]
    },
    {
      "cell_type": "code",
      "metadata": {
        "id": "L3frLVbvXQsW"
      },
      "source": [
        "# answerdf = pd.read_csv(\"/content/drive/Shared drives/CMPUT 466 - Project/data/Answers-Final.csv\", encoding=\"ISO-8859-1\")\n",
        "answerdf = pd.read_csv(answersPath, encoding=\"ISO-8859-1\")\n",
        "questiondf = pd.read_csv(questionsPath, encoding=\"ISO-8859-1\", header=None)\n",
        "tagdf = pd.read_csv(tagsPath)"
      ],
      "execution_count": null,
      "outputs": []
    },
    {
      "cell_type": "code",
      "metadata": {
        "id": "HBU8QboB_5YI"
      },
      "source": [
        "questionCols = {0:\"Id\", 1:\"OwnerUserId\", 2:\"CreationDate\", 3:\"ClosedDate\", 4:\"Score\", 5:\"Title\", 6:\"Body\"}\n",
        "questiondf.rename(mapper=questionCols, axis='columns', inplace=True)"
      ],
      "execution_count": null,
      "outputs": []
    },
    {
      "cell_type": "code",
      "metadata": {
        "id": "ofYszUeIZIKM"
      },
      "source": [
        "tagCounts = tagdf[\"Tag\"].value_counts(normalize=False)\n",
        "tmpDict = tagCounts.to_dict()\n",
        "tagdf[\"counts\"] = tagdf[\"Tag\"].map(tmpDict)\n",
        "tagdf = tagdf[tagdf[\"counts\"] > 101180]"
      ],
      "execution_count": null,
      "outputs": []
    },
    {
      "cell_type": "code",
      "metadata": {
        "id": "bLoa0Vp7b4sM"
      },
      "source": [
        "jointdf = pd.merge(tagdf, questiondf, how=\"left\", left_on=\"Id\", right_on=\"Id\")"
      ],
      "execution_count": null,
      "outputs": []
    },
    {
      "cell_type": "code",
      "metadata": {
        "id": "J7h3JbxIjK4O"
      },
      "source": [
        "SEED = 19\n",
        "random.seed(SEED)\n",
        "SAMPLE = 10000"
      ],
      "execution_count": null,
      "outputs": []
    },
    {
      "cell_type": "code",
      "metadata": {
        "id": "vOoRkm6lcLdR"
      },
      "source": [
        "tagSample = jointdf.sample(SAMPLE)\n",
        "vectorizer = CountVectorizer(\n",
        "        lowercase=True, stop_words='english',\n",
        "        max_df=1.0, min_df=1, max_features=None,  binary=True,\n",
        "        encoding=\"ISO-8859-1\"\n",
        "      )\n",
        "\n",
        "def removeWhitespace(val):\n",
        "  return re.sub('\\s', ' ', val)\n",
        "# tagSample = jointdf[:10000] # For consistency, don't sample yet\n",
        "# tagSample[\"Body\"] = tagSample[\"Body\"].apply(removeWhitespace)\n",
        "body = tagSample[\"Body\"].apply(removeWhitespace).to_numpy()\n",
        "tag = tagSample[\"Tag\"].to_numpy()\n",
        "X = vectorizer.fit_transform(body).toarray()\n",
        "classifier = CategoricalNB()"
      ],
      "execution_count": null,
      "outputs": []
    },
    {
      "cell_type": "code",
      "metadata": {
        "colab": {
          "base_uri": "https://localhost:8080/"
        },
        "id": "nCRJLj3uPZUF",
        "outputId": "d48a25a0-223d-4c91-92c7-7320d804f53a"
      },
      "source": [
        "spliter = 9000\n",
        "x_train = X[0:spliter]\n",
        "x_test = X[spliter:]\n",
        "y_train = tag[0:spliter]\n",
        "y_test = tag[spliter:]\n",
        "print(\"x_train shape: {}\".format(x_train.shape))\n",
        "print(\"y_train shape: {}\".format(y_train.shape))\n",
        "print(\"x_test shape: {}\".format(x_test.shape))\n",
        "print(\"y_test shape: {}\".format(y_test.shape))\n"
      ],
      "execution_count": null,
      "outputs": [
        {
          "output_type": "stream",
          "text": [
            "x_train shape: (9000, 86395)\n",
            "y_train shape: (9000,)\n",
            "x_test shape: (1000, 86395)\n",
            "y_test shape: (1000,)\n"
          ],
          "name": "stdout"
        }
      ]
    },
    {
      "cell_type": "code",
      "metadata": {
        "colab": {
          "base_uri": "https://localhost:8080/"
        },
        "id": "CQXWs0YVeLNv",
        "outputId": "4f86cef2-009c-4a8d-eb8f-e9bff6d0c295"
      },
      "source": [
        "classifier.fit(x_train, y_train)"
      ],
      "execution_count": null,
      "outputs": [
        {
          "output_type": "execute_result",
          "data": {
            "text/plain": [
              "CategoricalNB(alpha=1.0, class_prior=None, fit_prior=True)"
            ]
          },
          "metadata": {
            "tags": []
          },
          "execution_count": 10
        }
      ]
    },
    {
      "cell_type": "code",
      "metadata": {
        "id": "ry03gQe7JoTq"
      },
      "source": [
        "# classifier.score(x_test, y_test)"
      ],
      "execution_count": null,
      "outputs": []
    },
    {
      "cell_type": "code",
      "metadata": {
        "colab": {
          "base_uri": "https://localhost:8080/"
        },
        "id": "cZdtGpReJwxU",
        "outputId": "cf06adc4-0d60-41f1-ae53-ab0008f3bf2a"
      },
      "source": [
        "failList = list()\n",
        "missList = list()\n",
        "count = 0\n",
        "tmpResultlist = list()\n",
        "length = len(x_test)\n",
        "for index in range(length):\n",
        "  try:\n",
        "    result = classifier.predict(x_test[index:index+1])\n",
        "    tmpResultlist.append(result[0])\n",
        "    if result[0] == y_test[index]: count += 1\n",
        "    else:\n",
        "       missList.append(index)\n",
        "      #  print(\"result was {} and true was {}\".format(result[0], y_test[index]))\n",
        "  except Exception as e:\n",
        "    # print(\"index {} failed: {}\".format(index, e))\n",
        "    failList.append(index)\n",
        "failed = len(failList)\n",
        "missed = len(missList)\n",
        "\n",
        "print(\"FAILED: {}\".format(failed))\n",
        "print(\"Correct: {}\".format(count/(length-failed)))\n",
        "print(\"missed: {}\".format(missed/(length-failed)))\n",
        "# print(\"count: {}\".format(count))\n",
        "# print(tmpResultlist)"
      ],
      "execution_count": null,
      "outputs": [
        {
          "output_type": "stream",
          "text": [
            "FAILED: 847\n",
            "Correct: 0.6666666666666666\n",
            "missed: 0.3333333333333333\n"
          ],
          "name": "stdout"
        }
      ]
    },
    {
      "cell_type": "code",
      "metadata": {
        "id": "njneR1-Jk7SF"
      },
      "source": [
        ""
      ],
      "execution_count": null,
      "outputs": []
    }
  ]
}